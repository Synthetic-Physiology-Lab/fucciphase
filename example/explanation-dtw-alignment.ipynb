{
 "cells": [
  {
   "cell_type": "code",
   "execution_count": null,
   "id": "0",
   "metadata": {},
   "outputs": [],
   "source": [
    "import os\n",
    "\n",
    "import matplotlib.pyplot as plt\n",
    "import pandas as pd\n",
    "from fucciphase.phase import (\n",
    "    estimate_percentage_by_subsequence_alignment,\n",
    ")\n",
    "from scipy import interpolate"
   ]
  },
  {
   "cell_type": "code",
   "execution_count": null,
   "id": "1",
   "metadata": {},
   "outputs": [],
   "source": [
    "if not os.path.isdir(\"figures\"):\n",
    "    os.mkdir(\"figures\")"
   ]
  },
  {
   "cell_type": "markdown",
   "id": "2",
   "metadata": {},
   "source": [
    "## Read the reference curve"
   ]
  },
  {
   "cell_type": "code",
   "execution_count": null,
   "id": "3",
   "metadata": {},
   "outputs": [],
   "source": [
    "reference_file = \"example_data/hacat_fucciphase_reference.csv\"\n",
    "reference_df = pd.read_csv(reference_file)\n",
    "# add a fake TRACK_ID\n",
    "reference_df[\"TRACK_ID\"] = 1\n",
    "timestep = reference_df[\"time\"][1] - reference_df[\"time\"][0]\n",
    "cyan_channel = \"cyan\"\n",
    "magenta_channel = \"magenta\""
   ]
  },
  {
   "cell_type": "markdown",
   "id": "4",
   "metadata": {},
   "source": [
    "# Create a test curve\n",
    "\n",
    "* take selected datapoints\n",
    "* scale the intensity or introduce an offset"
   ]
  },
  {
   "cell_type": "code",
   "execution_count": null,
   "id": "5",
   "metadata": {},
   "outputs": [],
   "source": [
    "start_idx = 30\n",
    "end_idx = 70\n",
    "df = reference_df.iloc[start_idx:end_idx]\n",
    "df[\"cyan\"] = df.loc[:, \"cyan\"] + 0.5\n",
    "df[\"magenta\"] = df.loc[:, \"magenta\"] * 2"
   ]
  },
  {
   "cell_type": "code",
   "execution_count": null,
   "id": "6",
   "metadata": {},
   "outputs": [],
   "source": [
    "estimate_percentage_by_subsequence_alignment(\n",
    "        df,\n",
    "        dt=timestep,\n",
    "        channels=[cyan_channel, magenta_channel],\n",
    "        reference_data=reference_df,\n",
    "        track_id_name=\"TRACK_ID\")\n"
   ]
  },
  {
   "cell_type": "code",
   "execution_count": null,
   "id": "7",
   "metadata": {},
   "outputs": [],
   "source": [
    "plt.plot(df[\"percentage\"], df[\"CELL_CYCLE_PERC_DTW\"])\n",
    "plt.xlabel(\"Expected percentage\")\n",
    "plt.ylabel(\"Estimated percentage\")"
   ]
  },
  {
   "cell_type": "code",
   "execution_count": null,
   "id": "8",
   "metadata": {},
   "outputs": [],
   "source": [
    "fig, (ax1, ax2) = plt.subplots(1, 2)\n",
    "reference_df[\"percentage\"]\n",
    "ax1.plot(df[\"CELL_CYCLE_PERC_DTW\"], df[\"cyan\"], label=\"Query\")\n",
    "ax1.plot(reference_df[\"percentage\"], reference_df[\"cyan\"], label=\"Reference\")\n",
    "f_cyan = interpolate.interp1d(reference_df[\"percentage\"], reference_df[\"cyan\"])\n",
    "ax1.plot(df[\"CELL_CYCLE_PERC_DTW\"], f_cyan(df[\"CELL_CYCLE_PERC_DTW\"]),\n",
    "         lw=6,\n",
    "         alpha=0.5,\n",
    "         color=\"red\",\n",
    "         label=\"Match\",\n",
    ")\n",
    "ax1.plot(reference_df[\"percentage\"].iloc[start_idx:end_idx],\n",
    "         reference_df[\"cyan\"].iloc[start_idx:end_idx],\n",
    "         label=\"Ground truth\",\n",
    "         lw=3)\n",
    "\n",
    "ax2.plot(df[\"CELL_CYCLE_PERC_DTW\"], df[\"magenta\"], label=\"Query\")\n",
    "ax2.plot(reference_df[\"percentage\"], reference_df[\"magenta\"], label=\"Reference\")\n",
    "f_magenta = interpolate.interp1d(reference_df[\"percentage\"], reference_df[\"magenta\"])\n",
    "ax2.plot(df[\"CELL_CYCLE_PERC_DTW\"], f_magenta(df[\"CELL_CYCLE_PERC_DTW\"]),\n",
    "         lw=6,\n",
    "         alpha=0.5,\n",
    "         color=\"red\",\n",
    ")\n",
    "ax2.plot(reference_df[\"percentage\"].iloc[start_idx:end_idx],\n",
    "         reference_df[\"magenta\"].iloc[start_idx:end_idx],\n",
    "         lw=3)\n",
    "\n",
    "ax1.set_ylabel(\"Cyan intensity / arb. u.\")\n",
    "ax2.set_ylabel(\"Magenta intensity / arb. u.\")\n",
    "ax1.set_xlabel(\"Cell cycle percentage\")\n",
    "ax2.set_xlabel(\"Cell cycle percentage\")\n",
    "ax1.legend()\n",
    "plt.tight_layout()\n",
    "plt.savefig(\"explain_dtw_query.pdf\")\n",
    "plt.savefig(\"explain_dtw_query.svg\")"
   ]
  },
  {
   "cell_type": "code",
   "execution_count": null,
   "id": "9",
   "metadata": {},
   "outputs": [],
   "source": []
  },
  {
   "cell_type": "code",
   "execution_count": null,
   "id": "10",
   "metadata": {},
   "outputs": [],
   "source": []
  }
 ],
 "metadata": {
  "kernelspec": {
   "display_name": "Python 3 (ipykernel)",
   "language": "python",
   "name": "python3"
  },
  "language_info": {
   "codemirror_mode": {
    "name": "ipython",
    "version": 3
   },
   "file_extension": ".py",
   "mimetype": "text/x-python",
   "name": "python",
   "nbconvert_exporter": "python",
   "pygments_lexer": "ipython3",
   "version": "3.10.12"
  }
 },
 "nbformat": 4,
 "nbformat_minor": 5
}
