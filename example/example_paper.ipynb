{
 "cells": [
  {
   "cell_type": "code",
   "execution_count": null,
   "id": "cf25c1ed-f186-4b36-9e84-cdb00d3adfbb",
   "metadata": {},
   "outputs": [],
   "source": [
    "import json\n",
    "\n",
    "import matplotlib.pyplot as plt\n",
    "import pandas as pd\n",
    "from fucciphase import process_dataframe\n",
    "from fucciphase.plot import plot_normalized_intensities\n",
    "from fucciphase.sensor import FUCCISASensor"
   ]
  },
  {
   "cell_type": "markdown",
   "id": "e768dbd8",
   "metadata": {},
   "source": [
    "## Example data\n",
    "\n",
    "Example data was based on 100x videos of HaCaT cells with TEMPOphase sensor."
   ]
  },
  {
   "cell_type": "code",
   "execution_count": null,
   "id": "bfce15b3",
   "metadata": {},
   "outputs": [],
   "source": [
    "df = pd.read_csv(\"example_data/example_data_tempophase.csv\")"
   ]
  },
  {
   "cell_type": "code",
   "execution_count": null,
   "id": "81011e11-c502-4d24-9095-cba395c6a0b4",
   "metadata": {},
   "outputs": [],
   "source": [
    "with open(\"fuccisa_tempophase.json\") as fp:\n",
    "    sensor_properties = json.load(fp)"
   ]
  },
  {
   "cell_type": "code",
   "execution_count": null,
   "id": "0d5cd245-5627-4a50-99e4-89adcbd5c340",
   "metadata": {},
   "outputs": [],
   "source": [
    "sensor = FUCCISASensor(**sensor_properties)"
   ]
  },
  {
   "cell_type": "markdown",
   "id": "04d11ea7",
   "metadata": {},
   "source": [
    "## Process the DataFrame"
   ]
  },
  {
   "cell_type": "code",
   "execution_count": null,
   "id": "2f5dc54a",
   "metadata": {},
   "outputs": [],
   "source": [
    "process_dataframe(\n",
    "    df,\n",
    "    channels=[\"cyan\", \"magenta\"],\n",
    "    sensor=sensor,\n",
    "    thresholds=[0.1, 0.1],\n",
    "    use_moving_average=False,\n",
    ")"
   ]
  },
  {
   "cell_type": "code",
   "execution_count": null,
   "id": "f0274bb4",
   "metadata": {},
   "outputs": [],
   "source": [
    "plot_normalized_intensities(\n",
    "    df,\n",
    "    \"cyan\",\n",
    "    \"magenta\",\n",
    "    \"tab:cyan\",\n",
    "    \"m\",\n",
    "    time_column=\"percentage\",\n",
    "    time_label=\"Percentage w.r.t. total time\",\n",
    ")\n",
    "plot_normalized_intensities(\n",
    "    df,\n",
    "    \"cyan\",\n",
    "    \"magenta\",\n",
    "    \"tab:cyan\",\n",
    "    \"m\",\n",
    "    time_column=\"CELL_CYCLE_PERC\",\n",
    "    time_label=\"Percentage w.r.t. total time\",\n",
    "    marker=\"o\",\n",
    "    linestyle=\"\",\n",
    ")\n",
    "plt.show()"
   ]
  },
  {
   "cell_type": "code",
   "execution_count": null,
   "id": "7bd16ac9-879b-458c-a9f6-2ae19314837f",
   "metadata": {},
   "outputs": [],
   "source": [
    "plt.plot(df[\"percentage\"], df[\"percentage\"], color=\"black\", label=\"expected\")\n",
    "plt.plot(df[\"percentage\"], df[\"CELL_CYCLE_PERC\"], label=\"reconstructed\")\n",
    "plt.xlabel(\"Percentage\")\n",
    "plt.ylabel(\"Percentage\")\n",
    "plt.legend()\n",
    "plt.show()"
   ]
  },
  {
   "cell_type": "code",
   "execution_count": null,
   "id": "9b168906",
   "metadata": {},
   "outputs": [],
   "source": []
  }
 ],
 "metadata": {
  "kernelspec": {
   "display_name": "Python 3 (ipykernel)",
   "language": "python",
   "name": "python3"
  },
  "language_info": {
   "codemirror_mode": {
    "name": "ipython",
    "version": 3
   },
   "file_extension": ".py",
   "mimetype": "text/x-python",
   "name": "python",
   "nbconvert_exporter": "python",
   "pygments_lexer": "ipython3",
   "version": "3.10.12"
  }
 },
 "nbformat": 4,
 "nbformat_minor": 5
}
