{
 "cells": [
  {
   "cell_type": "code",
   "execution_count": null,
   "id": "cf25c1ed-f186-4b36-9e84-cdb00d3adfbb",
   "metadata": {},
   "outputs": [],
   "source": [
    "from fucciphase import process_trackmate\n",
    "from fucciphase.phase import NewColumns\n",
    "from fucciphase.plot import plot_phase"
   ]
  },
  {
   "cell_type": "markdown",
   "id": "e768dbd8",
   "metadata": {},
   "source": [
    "## Download data\n",
    "\n",
    "Download the example data from the paper."
   ]
  },
  {
   "cell_type": "code",
   "execution_count": null,
   "id": "bfce15b3",
   "metadata": {},
   "outputs": [],
   "source": [
    "# TODO"
   ]
  },
  {
   "cell_type": "markdown",
   "id": "04d11ea7",
   "metadata": {},
   "source": [
    "## Process the XML file\n",
    "\n",
    "For details on the different steps, check out the other notebook. The TrackMate\n",
    "processing will save a copy of the XML file with the updated data."
   ]
  },
  {
   "cell_type": "code",
   "execution_count": null,
   "id": "2f5dc54a",
   "metadata": {},
   "outputs": [],
   "source": [
    "df = process_trackmate(\n",
    "    \"result.xml\",\n",
    "    \"MEAN_INTENSITY_CH3\",\n",
    "    \"MEAN_INTENSITY_CH4\",\n",
    "    phases=[\"G1\", \"T\", \"S\", \"M\"],\n",
    "    thresholds=[0.04, 0.44, 0.56],\n",
    ")\n",
    "print(df[[\"ID\", \"TRACK_ID\", NewColumns.cell_cycle(), NewColumns.phase()]])"
   ]
  },
  {
   "cell_type": "code",
   "execution_count": null,
   "id": "f0274bb4",
   "metadata": {},
   "outputs": [],
   "source": [
    "plot_phase(df, \"MEAN_INTENSITY_CH3\", \"MEAN_INTENSITY_CH4\")"
   ]
  },
  {
   "cell_type": "code",
   "execution_count": null,
   "id": "0d6ea87f",
   "metadata": {},
   "outputs": [],
   "source": [
    "# filter dataframe for TRACK_ID 84\n",
    "df84 = df[df[\"TRACK_ID\"] == \"84\"]\n",
    "print(df84)\n",
    "\n",
    "# plot phase\n",
    "plot_phase(df84, \"MEAN_INTENSITY_CH3\", \"MEAN_INTENSITY_CH4\")"
   ]
  },
  {
   "cell_type": "code",
   "execution_count": null,
   "id": "9b168906",
   "metadata": {},
   "outputs": [],
   "source": []
  }
 ],
 "metadata": {
  "kernelspec": {
   "display_name": "Python 3 (ipykernel)",
   "language": "python",
   "name": "python3"
  },
  "language_info": {
   "codemirror_mode": {
    "name": "ipython",
    "version": 3
   },
   "file_extension": ".py",
   "mimetype": "text/x-python",
   "name": "python",
   "nbconvert_exporter": "python",
   "pygments_lexer": "ipython3",
   "version": "3.10.12"
  }
 },
 "nbformat": 4,
 "nbformat_minor": 5
}
