{
 "cells": [
  {
   "cell_type": "code",
   "execution_count": null,
   "id": "3dee30d8-ab9b-4e7a-bd37-c15564e27740",
   "metadata": {},
   "outputs": [],
   "source": [
    "!pip install lmfit"
   ]
  },
  {
   "cell_type": "code",
   "execution_count": null,
   "id": "cf25c1ed-f186-4b36-9e84-cdb00d3adfbb",
   "metadata": {},
   "outputs": [],
   "source": [
    "import json\n",
    "\n",
    "import lmfit\n",
    "import matplotlib.pyplot as plt\n",
    "import pandas as pd\n",
    "from fucciphase import logistic\n",
    "from fucciphase.phase import estimate_cell_phase_from_max_intensity\n",
    "from fucciphase.plot import plot_normalized_intensities, plot_raw_intensities\n",
    "from fucciphase.sensor import FUCCISASensor\n",
    "from fucciphase.utils import normalize_channels"
   ]
  },
  {
   "cell_type": "markdown",
   "id": "e768dbd8",
   "metadata": {},
   "source": [
    "## Example data\n",
    "\n",
    "Example data was based on 100x videos of HaCaT cells with TEMPOphase sensor."
   ]
  },
  {
   "cell_type": "code",
   "execution_count": null,
   "id": "bfce15b3",
   "metadata": {},
   "outputs": [],
   "source": [
    "df = pd.read_csv(\"example_data/example_data_tempophase.csv\")"
   ]
  },
  {
   "cell_type": "code",
   "execution_count": null,
   "id": "1a518b92-0ead-4bd4-849b-b413b35ca2df",
   "metadata": {},
   "outputs": [],
   "source": [
    "df[\"TRACK_ID\"] = 1\n",
    "df[\"FRAME\"] = df.index"
   ]
  },
  {
   "cell_type": "code",
   "execution_count": null,
   "id": "0ca511c0-e72d-48ff-a496-35195b26128a",
   "metadata": {},
   "outputs": [],
   "source": [
    "normalize_channels(df, [\"cyan\", \"magenta\"])"
   ]
  },
  {
   "cell_type": "code",
   "execution_count": null,
   "id": "b9735d26-6c9e-49ad-9094-e04185b283f6",
   "metadata": {},
   "outputs": [],
   "source": [
    "plot_raw_intensities(\n",
    "    df,\n",
    "    \"cyan\",\n",
    "    \"magenta\",\n",
    "    \"tab:cyan\",\n",
    "    \"m\",\n",
    "    time_column=\"percentage\",\n",
    "    time_label=\"Percentage w.r.t. total time\",\n",
    ")\n",
    "plt.show()"
   ]
  },
  {
   "cell_type": "code",
   "execution_count": null,
   "id": "81011e11-c502-4d24-9095-cba395c6a0b4",
   "metadata": {},
   "outputs": [],
   "source": [
    "plot_normalized_intensities(\n",
    "    df,\n",
    "    \"cyan\",\n",
    "    \"magenta\",\n",
    "    \"tab:cyan\",\n",
    "    \"m\",\n",
    "    time_column=\"percentage\",\n",
    "    time_label=\"Percentage w.r.t. total time\",\n",
    ")\n",
    "plt.show()"
   ]
  },
  {
   "cell_type": "code",
   "execution_count": null,
   "id": "dfd02e7e-9763-4c6a-a579-8f96b54b20d0",
   "metadata": {},
   "outputs": [],
   "source": [
    "thresholds = [0.1, 0.1]\n",
    "fuccisa = FUCCISASensor(\n",
    "    phase_percentages=[0.0, 50.0, 50.0],\n",
    "    center=[0.0, 0.0, 0.0, 0.0],\n",
    "    sigma=[0.0, 0.0, 0.0, 0.0],\n",
    ")"
   ]
  },
  {
   "cell_type": "code",
   "execution_count": null,
   "id": "847c3105-3c6b-4bf5-9a51-e0b3195621e0",
   "metadata": {},
   "outputs": [],
   "source": [
    "estimate_cell_phase_from_max_intensity(\n",
    "    df, [\"cyan\", \"magenta\"], fuccisa, background=[0.0, 0.0], thresholds=[0.1, 0.1]\n",
    ")"
   ]
  },
  {
   "cell_type": "code",
   "execution_count": null,
   "id": "dfdbd12a-dc51-4b50-a827-8d18ce6004a1",
   "metadata": {},
   "outputs": [],
   "source": [
    "g1 = df.loc[df[\"DISCRETE_PHASE_MAX\"] == \"G1\", \"percentage\"]\n",
    "g1_perc = g1.max()\n",
    "g1s = df.loc[df[\"DISCRETE_PHASE_MAX\"] == \"G1/S\", \"percentage\"]\n",
    "# filter mislabel\n",
    "g1s_perc = g1s[(g1s < 80)].max()\n",
    "sg2m_perc = 100.0 - g1s_perc"
   ]
  },
  {
   "cell_type": "code",
   "execution_count": null,
   "id": "b56c7c0b-f6eb-4a29-8d41-4583bd08eb49",
   "metadata": {},
   "outputs": [],
   "source": [
    "print(g1_perc)\n",
    "print(g1s_perc - g1_perc)\n",
    "print(sg2m_perc)"
   ]
  },
  {
   "cell_type": "markdown",
   "id": "fda46abf-b7d2-4ce3-8760-72225fe3509a",
   "metadata": {},
   "source": [
    "# Define fit model"
   ]
  },
  {
   "cell_type": "code",
   "execution_count": null,
   "id": "6c349697-0044-4c07-8f11-a539fa7b7abb",
   "metadata": {},
   "outputs": [],
   "source": [
    "model = lmfit.models.RectangleModel(form=\"logistic\")\n",
    "\n",
    "def fit_curve(time, data):\n",
    "    \"\"\"Fit a curve to step model.\"\"\"\n",
    "    parameters = model.guess(data, x=time)\n",
    "    parameters[\"amplitude\"].value = 1.0\n",
    "    parameters[\"amplitude\"].vary = False\n",
    "\n",
    "    parameters[\"center1\"].min = 0\n",
    "    parameters[\"center2\"].min = 0\n",
    "    if parameters[\"center1\"].value > parameters[\"center2\"].value:\n",
    "        parameters[\"center1\"].value = 10000\n",
    "        parameters[\"center2\"].value = 50000\n",
    "\n",
    "    curve_shifted = data - data.min()\n",
    "    fit = model.fit(curve_shifted / curve_shifted.max(), parameters, x=time)\n",
    "    print(fit.fit_report())\n",
    "    return fit"
   ]
  },
  {
   "cell_type": "markdown",
   "id": "04d11ea7",
   "metadata": {},
   "source": [
    "## Process the DataFrame"
   ]
  },
  {
   "cell_type": "code",
   "execution_count": null,
   "id": "2d0cebe6-1491-4ceb-a46c-bd4100fdd275",
   "metadata": {},
   "outputs": [],
   "source": [
    "center = [0] * 4\n",
    "sigma = [0] * 4"
   ]
  },
  {
   "cell_type": "code",
   "execution_count": null,
   "id": "9b168906",
   "metadata": {},
   "outputs": [],
   "source": [
    "percentages = df[\"percentage\"]\n",
    "fit = fit_curve(percentages, df[\"cyan_NORM\"])\n",
    "c1 = fit.params[\"center1\"].value\n",
    "c2 = fit.params[\"center2\"].value\n",
    "peak = fit.params[\"amplitude\"].value\n",
    "sigma1 = fit.params[\"sigma1\"].value\n",
    "sigma2 = fit.params[\"sigma2\"].value\n",
    "plt.plot(percentages, fit.best_fit, \"o-\", label=\"Best fit\")\n",
    "plt.plot(percentages, fit.data, label=\"Data\")\n",
    "\n",
    "plt.plot(\n",
    "    percentages,\n",
    "    1.0 - logistic(percentages, c1, sigma1),\n",
    "    \"o\",\n",
    "    label=\"Accumulation\",\n",
    "    markevery=3,\n",
    ")\n",
    "plt.plot(\n",
    "    percentages,\n",
    "    1.0 - logistic(percentages, c2, sigma2, sign=-1.0),\n",
    "    \"v\",\n",
    "    label=\"Degradation\",\n",
    "    markevery=3,\n",
    ")\n",
    "\n",
    "plt.vlines(g1_perc, 0, peak, color=\"black\")\n",
    "plt.vlines(g1s_perc, 0, peak, color=\"black\", linestyles=\"dotted\")\n",
    "\n",
    "plt.ylabel(\"Normalised intensity\")\n",
    "plt.xlabel(\"Percentage w.r.t. total time\")\n",
    "plt.legend()\n",
    "plt.show()\n",
    "\n",
    "center[0] = c1\n",
    "center[1] = c2\n",
    "sigma[0] = sigma1\n",
    "sigma[1] = sigma2"
   ]
  },
  {
   "cell_type": "code",
   "execution_count": null,
   "id": "073ce7df-5e57-4caa-8e83-96169471bd5a",
   "metadata": {},
   "outputs": [],
   "source": [
    "percentages = df[\"percentage\"]\n",
    "fit = fit_curve(percentages, df[\"magenta_NORM\"])\n",
    "c1 = fit.params[\"center1\"].value\n",
    "c2 = fit.params[\"center2\"].value\n",
    "peak = fit.params[\"amplitude\"].value\n",
    "sigma1 = fit.params[\"sigma1\"].value\n",
    "sigma2 = fit.params[\"sigma2\"].value\n",
    "plt.plot(percentages, fit.best_fit, \"o-\", label=\"Best fit\")\n",
    "plt.plot(percentages, fit.data, label=\"Data\")\n",
    "\n",
    "plt.plot(\n",
    "    percentages,\n",
    "    1.0 - logistic(percentages, c1, sigma1),\n",
    "    \"o\",\n",
    "    label=\"Accumulation\",\n",
    "    markevery=3,\n",
    ")\n",
    "plt.plot(\n",
    "    percentages,\n",
    "    1.0 - logistic(percentages, c2, sigma2, sign=-1.0),\n",
    "    \"v\",\n",
    "    label=\"Degradation\",\n",
    "    markevery=3,\n",
    ")\n",
    "\n",
    "plt.vlines(g1_perc, 0, peak, color=\"black\")\n",
    "plt.vlines(g1s_perc, 0, peak, color=\"black\", linestyles=\"dotted\")\n",
    "\n",
    "plt.ylabel(\"Normalised intensity\")\n",
    "plt.xlabel(\"Percentage w.r.t. total time\")\n",
    "plt.legend()\n",
    "plt.show()\n",
    "\n",
    "center[2] = c1\n",
    "center[3] = c2\n",
    "sigma[2] = sigma1\n",
    "sigma[3] = sigma2"
   ]
  },
  {
   "cell_type": "code",
   "execution_count": null,
   "id": "ae18c314-1133-41eb-bf99-1ded2c1643b8",
   "metadata": {},
   "outputs": [],
   "source": [
    "result_dict = {\n",
    "    \"phase_percentages\": [g1_perc, g1s_perc - g1_perc, sg2m_perc],\n",
    "    \"center\": center,\n",
    "    \"sigma\": sigma,\n",
    "}"
   ]
  },
  {
   "cell_type": "code",
   "execution_count": null,
   "id": "b9243c6b-e4dc-4c0a-a6d5-217258d17888",
   "metadata": {},
   "outputs": [],
   "source": [
    "with open(\"fuccisa_tempophase.json\", \"w\") as fp:\n",
    "    json.dump(result_dict, fp)"
   ]
  },
  {
   "cell_type": "code",
   "execution_count": null,
   "id": "18c8bc0d-c2d6-467f-9f5f-ca6ff73eb779",
   "metadata": {},
   "outputs": [],
   "source": []
  },
  {
   "cell_type": "code",
   "execution_count": null,
   "id": "14235dc7-f252-44cc-9eb6-2d84ac88d18c",
   "metadata": {},
   "outputs": [],
   "source": []
  }
 ],
 "metadata": {
  "kernelspec": {
   "display_name": "Python 3 (ipykernel)",
   "language": "python",
   "name": "python3"
  },
  "language_info": {
   "codemirror_mode": {
    "name": "ipython",
    "version": 3
   },
   "file_extension": ".py",
   "mimetype": "text/x-python",
   "name": "python",
   "nbconvert_exporter": "python",
   "pygments_lexer": "ipython3",
   "version": "3.10.12"
  }
 },
 "nbformat": 4,
 "nbformat_minor": 5
}
