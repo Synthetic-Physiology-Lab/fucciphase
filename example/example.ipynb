{
 "cells": [
  {
   "cell_type": "code",
   "execution_count": null,
   "id": "cf25c1ed-f186-4b36-9e84-cdb00d3adfbb",
   "metadata": {},
   "outputs": [],
   "source": [
    "from fucciphase.io import read_trackmate_csv\n",
    "from fucciphase.phase import compute_phase_bichannel\n",
    "from fucciphase.utils import normalize_channel"
   ]
  },
  {
   "cell_type": "markdown",
   "id": "04d11ea7",
   "metadata": {},
   "source": [
    "## Read Trackmate csv file (exported spots)"
   ]
  },
  {
   "cell_type": "code",
   "execution_count": null,
   "id": "2f5dc54a",
   "metadata": {},
   "outputs": [],
   "source": [
    "# TODO add generated example data\n",
    "df = read_trackmate_csv(\"export.csv\")\n",
    "print(df)"
   ]
  },
  {
   "cell_type": "markdown",
   "id": "3a766cc5",
   "metadata": {},
   "source": [
    "## Normalize the last two channels"
   ]
  },
  {
   "cell_type": "code",
   "execution_count": null,
   "id": "b5d268d3",
   "metadata": {},
   "outputs": [],
   "source": [
    "new_channels_name = normalize_channel(df, [\"MEAN_INTENSITY_CH3\", \"MEAN_INTENSITY_CH4\"])\n",
    "print(df[new_channels_name])"
   ]
  },
  {
   "cell_type": "markdown",
   "id": "a3f72354",
   "metadata": {},
   "source": [
    "## Compute the cell cycle percentage for each spot"
   ]
  },
  {
   "cell_type": "code",
   "execution_count": null,
   "id": "5367f5e7",
   "metadata": {},
   "outputs": [],
   "source": [
    "new_channels_name = compute_phase_bichannel(\n",
    "    df, \"MEAN_INTENSITY_CH3\", \"MEAN_INTENSITY_CH4\"\n",
    ")\n",
    "print(df[new_channels_name])"
   ]
  },
  {
   "cell_type": "code",
   "execution_count": null,
   "id": "2d01f636",
   "metadata": {},
   "outputs": [],
   "source": []
  },
  {
   "cell_type": "code",
   "execution_count": null,
   "id": "19672e0d",
   "metadata": {},
   "outputs": [],
   "source": []
  }
 ],
 "metadata": {
  "kernelspec": {
   "display_name": "Python 3 (ipykernel)",
   "language": "python",
   "name": "python3"
  },
  "language_info": {
   "codemirror_mode": {
    "name": "ipython",
    "version": 3
   },
   "file_extension": ".py",
   "mimetype": "text/x-python",
   "name": "python",
   "nbconvert_exporter": "python",
   "pygments_lexer": "ipython3",
   "version": "3.10.12"
  }
 },
 "nbformat": 4,
 "nbformat_minor": 5
}
