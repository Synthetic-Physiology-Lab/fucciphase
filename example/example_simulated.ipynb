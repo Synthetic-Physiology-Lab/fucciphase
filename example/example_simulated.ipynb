{
 "cells": [
  {
   "cell_type": "code",
   "execution_count": null,
   "id": "0",
   "metadata": {},
   "outputs": [],
   "source": [
    "# Imports\n",
    "import json\n",
    "\n",
    "import matplotlib.pyplot as plt\n",
    "import numpy as np\n",
    "\n",
    "from fucciphase import process_dataframe\n",
    "from fucciphase.phase import NewColumns, generate_cycle_phases\n",
    "from fucciphase.sensor import FUCCISASensor, accumulation_function, degradation_function\n",
    "from fucciphase.utils import normalize_channels, simulate_single_track"
   ]
  },
  {
   "cell_type": "markdown",
   "id": "1",
   "metadata": {},
   "source": [
    "# Estimating sensor data\n",
    "\n",
    "We took this [paper](https://doi.org/10.1016/j.molcel.2017.10.001) and used Fig. 1 and the Supplementary Material, Fig. S2 to estimate the relevant properties.\n",
    "\n",
    "The time constants `k` can be converted by using:\n",
    "`sigma = 100 * (1 / k) / duration`\n",
    "The duration was taken from Fig. 1G.\n",
    "The centers were guessed so that the phase boundaries roughly match.\n",
    "The parameters are stored in the `example_data/` folder and read in the following cell."
   ]
  },
  {
   "cell_type": "code",
   "execution_count": null,
   "id": "2",
   "metadata": {},
   "outputs": [],
   "source": [
    "with open(\"example_data/fuccisa_hela_molcel_2017.json\") as json_file:\n",
    "    data = json.load(json_file)\n",
    "sensor = FUCCISASensor(\n",
    "    phase_percentages=data[\"phase_percentages\"],\n",
    "    center=data[\"center\"],\n",
    "    sigma=data[\"sigma\"],\n",
    ")"
   ]
  },
  {
   "cell_type": "code",
   "execution_count": null,
   "id": "3",
   "metadata": {},
   "outputs": [],
   "source": [
    "percentages = np.linspace(0, 100, num=100)\n",
    "ch1_intensity, ch2_intensity = sensor.get_expected_intensities(percentages)"
   ]
  },
  {
   "cell_type": "code",
   "execution_count": null,
   "id": "4",
   "metadata": {},
   "outputs": [],
   "source": [
    "duration = 15.35\n",
    "g1_perc = data[\"phase_percentages\"][0]\n",
    "g1s_perc = data[\"phase_percentages\"][1]\n",
    "peak = 1.0\n",
    "\n",
    "plt.plot(percentages, ch1_intensity, lw=3)\n",
    "plt.plot(\n",
    "    percentages,\n",
    "    accumulation_function(percentages, data[\"center\"][0], data[\"sigma\"][0]),\n",
    "    \"o\",\n",
    "    label=\"Accumulation CH1\",\n",
    "    markevery=3,\n",
    ")\n",
    "\n",
    "plt.plot(\n",
    "    percentages,\n",
    "    degradation_function(percentages, data[\"center\"][1], data[\"sigma\"][1]),\n",
    "    \"v\",\n",
    "    label=\"Degradation CH1\",\n",
    "    markevery=3,\n",
    ")\n",
    "\n",
    "\n",
    "plt.plot(percentages, ch2_intensity, lw=3)\n",
    "plt.plot(\n",
    "    percentages,\n",
    "    accumulation_function(percentages, data[\"center\"][2], data[\"sigma\"][2]),\n",
    "    \"o\",\n",
    "    label=\"Accumulation CH2\",\n",
    "    markevery=3,\n",
    ")\n",
    "plt.plot(\n",
    "    percentages,\n",
    "    degradation_function(percentages, data[\"center\"][3], data[\"sigma\"][3]),\n",
    "    \"v\",\n",
    "    label=\"Degradation CH2\",\n",
    "    markevery=3,\n",
    ")\n",
    "plt.vlines(g1_perc, 0, peak, color=\"black\")\n",
    "plt.vlines(g1_perc + g1s_perc, 0, peak, color=\"black\", linestyles=\"dotted\")\n",
    "plt.legend()\n",
    "plt.xlabel(\"Percentage\")\n",
    "plt.ylabel(\"Intensity / arb.u.\")\n",
    "plt.show()\n",
    "\n",
    "plt.plot(duration * percentages / 100, ch1_intensity)\n",
    "plt.plot(\n",
    "    duration * percentages / 100,\n",
    "    accumulation_function(percentages, data[\"center\"][0], data[\"sigma\"][0]),\n",
    "    \"o\",\n",
    "    label=\"Accumulation CH1\",\n",
    "    markevery=3,\n",
    ")\n",
    "plt.plot(\n",
    "    duration * percentages / 100,\n",
    "    degradation_function(percentages, data[\"center\"][1], data[\"sigma\"][1]),\n",
    "    \"v\",\n",
    "    label=\"Degradation CH1\",\n",
    "    markevery=3,\n",
    ")\n",
    "\n",
    "plt.plot(duration * percentages / 100, ch2_intensity)\n",
    "plt.plot(\n",
    "    duration * percentages / 100,\n",
    "    accumulation_function(percentages, data[\"center\"][2], data[\"sigma\"][2]),\n",
    "    \"o\",\n",
    "    label=\"Accumulation CH2\",\n",
    "    markevery=3,\n",
    ")\n",
    "plt.plot(\n",
    "    duration * percentages / 100,\n",
    "    degradation_function(percentages, data[\"center\"][3], data[\"sigma\"][3]),\n",
    "    \"v\",\n",
    "    label=\"Degradation CH2\",\n",
    "    markevery=3,\n",
    ")\n",
    "plt.vlines(duration * g1_perc / 100, 0, peak, color=\"black\")\n",
    "plt.vlines(\n",
    "    duration * (g1_perc + g1s_perc) / 100, 0, peak, color=\"black\", linestyles=\"dotted\"\n",
    ")\n",
    "plt.xlabel(\"Time / h\")\n",
    "plt.ylabel(\"Intensity / arb.u.\")\n",
    "plt.legend()\n",
    "plt.show()"
   ]
  },
  {
   "cell_type": "markdown",
   "id": "5",
   "metadata": {},
   "source": [
    "## Generate data\n",
    "\n",
    "The next cell generates a dummy dataset for the purpose of showing how fucciphase\n",
    "works."
   ]
  },
  {
   "cell_type": "code",
   "execution_count": null,
   "id": "6",
   "metadata": {},
   "outputs": [],
   "source": [
    "df = simulate_single_track()\n",
    "print(df)"
   ]
  },
  {
   "cell_type": "markdown",
   "id": "7",
   "metadata": {},
   "source": [
    "# Normalize intensities"
   ]
  },
  {
   "cell_type": "code",
   "execution_count": null,
   "id": "8",
   "metadata": {},
   "outputs": [],
   "source": [
    "normalize_channels(df, channels=[\"MEAN_INTENSITY_CH3\", \"MEAN_INTENSITY_CH4\"])"
   ]
  },
  {
   "cell_type": "markdown",
   "id": "9",
   "metadata": {},
   "source": [
    "## Identify the cell cycle phases and percentage\n",
    "\n",
    "You need to provide one thresholds for the intensity of each channel."
   ]
  },
  {
   "cell_type": "code",
   "execution_count": null,
   "id": "10",
   "metadata": {},
   "outputs": [],
   "source": [
    "generate_cycle_phases(\n",
    "    df,\n",
    "    sensor=sensor,\n",
    "    channels=[\"MEAN_INTENSITY_CH3\", \"MEAN_INTENSITY_CH4\"],\n",
    "    thresholds=[0.1, 0.1],\n",
    ")"
   ]
  },
  {
   "cell_type": "code",
   "execution_count": null,
   "id": "11",
   "metadata": {},
   "outputs": [],
   "source": [
    "print(df[[NewColumns.cell_cycle(), NewColumns.discrete_phase_max()]])"
   ]
  },
  {
   "cell_type": "markdown",
   "id": "12",
   "metadata": {},
   "source": [
    "## Run all at once\n",
    "\n",
    "The whole process can also be run at once using the `process_dataframe` function.\n",
    "\n",
    "There are additional parameters to tune the analysis. Check out the function \n",
    "documentation."
   ]
  },
  {
   "cell_type": "code",
   "execution_count": null,
   "id": "13",
   "metadata": {},
   "outputs": [],
   "source": [
    "df = simulate_single_track()\n",
    "process_dataframe(\n",
    "    df,\n",
    "    channels=[\"MEAN_INTENSITY_CH3\", \"MEAN_INTENSITY_CH4\"],\n",
    "    sensor=sensor,\n",
    "    thresholds=[0.1, 0.1],\n",
    ")"
   ]
  },
  {
   "cell_type": "code",
   "execution_count": null,
   "id": "14",
   "metadata": {},
   "outputs": [],
   "source": []
  }
 ],
 "metadata": {
  "kernelspec": {
   "display_name": "Python 3 (ipykernel)",
   "language": "python",
   "name": "python3"
  },
  "language_info": {
   "codemirror_mode": {
    "name": "ipython",
    "version": 3
   },
   "file_extension": ".py",
   "mimetype": "text/x-python",
   "name": "python",
   "nbconvert_exporter": "python",
   "pygments_lexer": "ipython3",
   "version": "3.10.12"
  }
 },
 "nbformat": 4,
 "nbformat_minor": 5
}
