{
 "cells": [
  {
   "cell_type": "code",
   "execution_count": null,
   "id": "cf25c1ed-f186-4b36-9e84-cdb00d3adfbb",
   "metadata": {},
   "outputs": [],
   "source": [
    "# Imports\n",
    "from fucciphase import process_dataframe\n",
    "from fucciphase.phase import NewColumns, compute_cell_cycle, generate_cycle_phases\n",
    "from fucciphase.plot import plot_phase\n",
    "from fucciphase.utils import normalize_channels, simulate_single_track"
   ]
  },
  {
   "cell_type": "markdown",
   "id": "e768dbd8",
   "metadata": {},
   "source": [
    "## Generate data\n",
    "\n",
    "The next cell generates a dummy dataset for the purpose of showing how fucciphase\n",
    "works."
   ]
  },
  {
   "cell_type": "code",
   "execution_count": null,
   "id": "bfce15b3",
   "metadata": {},
   "outputs": [],
   "source": [
    "df = simulate_single_track()\n",
    "print(df)"
   ]
  },
  {
   "cell_type": "markdown",
   "id": "3a766cc5",
   "metadata": {},
   "source": [
    "## Normalize the last two channels\n",
    "\n",
    "Next, we normalize the channels. We need to pass the channel names to the function.\n",
    "The normalization function also runs a moving average by default on each track."
   ]
  },
  {
   "cell_type": "code",
   "execution_count": null,
   "id": "b5d268d3",
   "metadata": {},
   "outputs": [],
   "source": [
    "new_channels_name = normalize_channels(df, [\"MEAN_INTENSITY_CH3\", \"MEAN_INTENSITY_CH4\"])\n",
    "print(df[new_channels_name])"
   ]
  },
  {
   "cell_type": "markdown",
   "id": "a3f72354",
   "metadata": {},
   "source": [
    "## Compute the cell cycle percentage for each spot"
   ]
  },
  {
   "cell_type": "markdown",
   "id": "96b9fdc5",
   "metadata": {},
   "source": [
    "For each spot, we compute the cell cycle percentage using a trigonometric approach."
   ]
  },
  {
   "cell_type": "code",
   "execution_count": null,
   "id": "5367f5e7",
   "metadata": {},
   "outputs": [],
   "source": [
    "new_channels_name = compute_cell_cycle(df, \"MEAN_INTENSITY_CH3\", \"MEAN_INTENSITY_CH4\")\n",
    "print(df[new_channels_name])"
   ]
  },
  {
   "cell_type": "markdown",
   "id": "80fd3006",
   "metadata": {},
   "source": [
    "## Identify the cell cycle phases\n",
    "\n",
    "If you know where the thresholds for the different phases are, you can also use the \n",
    "cell cycle percentage to identify the phase. You need to provide one more phase than\n",
    "thresholds, the first threshold corresponding to the end of the first phase. "
   ]
  },
  {
   "cell_type": "code",
   "execution_count": null,
   "id": "03bc497a",
   "metadata": {},
   "outputs": [],
   "source": [
    "generate_cycle_phases(df, phases=[\"G1\", \"T\", \"S\", \"M\"], thresholds=[0.04, 0.44, 0.56])\n",
    "print(df[[NewColumns.cell_cycle(), NewColumns.phase()]])"
   ]
  },
  {
   "cell_type": "markdown",
   "id": "7b794dc3",
   "metadata": {},
   "source": [
    "## Run all at once\n",
    "\n",
    "The whole process can also be run at once using the `process_dataframe` function.\n",
    "\n",
    "There are additional parameters to tune the analysis. Check out the function \n",
    "documentation."
   ]
  },
  {
   "cell_type": "code",
   "execution_count": null,
   "id": "9711e281",
   "metadata": {},
   "outputs": [],
   "source": [
    "df = simulate_single_track()\n",
    "process_dataframe(\n",
    "    df,\n",
    "    \"MEAN_INTENSITY_CH3\",\n",
    "    \"MEAN_INTENSITY_CH4\",\n",
    "    phases=[\"G1\", \"T\", \"S\", \"M\"],\n",
    "    thresholds=[0.04, 0.44, 0.56],\n",
    ")"
   ]
  },
  {
   "cell_type": "markdown",
   "id": "2d01f636",
   "metadata": {},
   "source": [
    "## Plot results\n",
    "\n",
    "We provide a convenience function to plot the results."
   ]
  },
  {
   "cell_type": "code",
   "execution_count": null,
   "id": "f0274bb4",
   "metadata": {},
   "outputs": [],
   "source": [
    "plot_phase(df, \"MEAN_INTENSITY_CH3\", \"MEAN_INTENSITY_CH4\")"
   ]
  },
  {
   "cell_type": "code",
   "execution_count": null,
   "id": "ddfe648e",
   "metadata": {},
   "outputs": [],
   "source": []
  }
 ],
 "metadata": {
  "kernelspec": {
   "display_name": "Python 3 (ipykernel)",
   "language": "python",
   "name": "python3"
  },
  "language_info": {
   "codemirror_mode": {
    "name": "ipython",
    "version": 3
   },
   "file_extension": ".py",
   "mimetype": "text/x-python",
   "name": "python",
   "nbconvert_exporter": "python",
   "pygments_lexer": "ipython3",
   "version": "3.10.12"
  }
 },
 "nbformat": 4,
 "nbformat_minor": 5
}
