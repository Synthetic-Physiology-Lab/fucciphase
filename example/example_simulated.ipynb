{
 "cells": [
  {
   "cell_type": "code",
   "execution_count": null,
   "id": "cf25c1ed-f186-4b36-9e84-cdb00d3adfbb",
   "metadata": {},
   "outputs": [],
   "source": [
    "# Imports\n",
    "from fucciphase.phase import compute_phase_trigo\n",
    "from fucciphase.plot import plot_phase\n",
    "from fucciphase.simulator import simulate_single_track\n",
    "from fucciphase.utils import normalize_channels"
   ]
  },
  {
   "cell_type": "markdown",
   "id": "e768dbd8",
   "metadata": {},
   "source": [
    "## Generate data"
   ]
  },
  {
   "cell_type": "code",
   "execution_count": null,
   "id": "bfce15b3",
   "metadata": {},
   "outputs": [],
   "source": [
    "df = simulate_single_track()\n",
    "print(df)"
   ]
  },
  {
   "cell_type": "markdown",
   "id": "3a766cc5",
   "metadata": {},
   "source": [
    "## Normalize the last two channels"
   ]
  },
  {
   "cell_type": "code",
   "execution_count": null,
   "id": "b5d268d3",
   "metadata": {},
   "outputs": [],
   "source": [
    "new_channels_name = normalize_channels(df, [\"MEAN_INTENSITY_CH3\", \"MEAN_INTENSITY_CH4\"])\n",
    "print(df[new_channels_name])"
   ]
  },
  {
   "cell_type": "markdown",
   "id": "a3f72354",
   "metadata": {},
   "source": [
    "## Compute the cell cycle percentage for each spot"
   ]
  },
  {
   "cell_type": "code",
   "execution_count": null,
   "id": "5367f5e7",
   "metadata": {},
   "outputs": [],
   "source": [
    "new_channels_name = compute_phase_trigo(df, \"MEAN_INTENSITY_CH3\", \"MEAN_INTENSITY_CH4\")\n",
    "print(df[new_channels_name])"
   ]
  },
  {
   "cell_type": "markdown",
   "id": "2d01f636",
   "metadata": {},
   "source": [
    "## Plot results for track 85"
   ]
  },
  {
   "cell_type": "code",
   "execution_count": null,
   "id": "f0274bb4",
   "metadata": {},
   "outputs": [],
   "source": [
    "# filter dataframe for TRACK_ID 85\n",
    "df85 = df[df[\"TRACK_ID\"] == 85]\n",
    "\n",
    "# plot phase\n",
    "plot_phase(df85, \"MEAN_INTENSITY_CH3\", \"MEAN_INTENSITY_CH4\")"
   ]
  },
  {
   "cell_type": "code",
   "execution_count": null,
   "id": "c2a2d4f4",
   "metadata": {},
   "outputs": [],
   "source": [
    "df[\"PHASE\"]"
   ]
  },
  {
   "cell_type": "code",
   "execution_count": null,
   "id": "0d6ea87f",
   "metadata": {},
   "outputs": [],
   "source": [
    "df[\"MEAN_INTENSITY_UNIQUE_VALUE\"]"
   ]
  },
  {
   "cell_type": "code",
   "execution_count": null,
   "id": "428ec9aa",
   "metadata": {},
   "outputs": [],
   "source": []
  }
 ],
 "metadata": {
  "kernelspec": {
   "display_name": "Python 3 (ipykernel)",
   "language": "python",
   "name": "python3"
  },
  "language_info": {
   "codemirror_mode": {
    "name": "ipython",
    "version": 3
   },
   "file_extension": ".py",
   "mimetype": "text/x-python",
   "name": "python",
   "nbconvert_exporter": "python",
   "pygments_lexer": "ipython3",
   "version": "3.10.12"
  }
 },
 "nbformat": 4,
 "nbformat_minor": 5
}
